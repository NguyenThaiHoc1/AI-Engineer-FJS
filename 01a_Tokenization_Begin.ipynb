{
 "cells": [
  {
   "cell_type": "code",
   "execution_count": 2,
   "id": "initial_id",
   "metadata": {
    "collapsed": true,
    "ExecuteTime": {
     "end_time": "2024-06-12T01:29:33.070673Z",
     "start_time": "2024-06-12T01:29:32.940698Z"
    }
   },
   "outputs": [
    {
     "name": "stdout",
     "output_type": "stream",
     "text": [
      "/Users/nguyenthaihoc/Desktop/FUJINET/AI-Engineer\r\n"
     ]
    }
   ],
   "source": [
    "!pwd "
   ]
  },
  {
   "cell_type": "code",
   "execution_count": 41,
   "outputs": [],
   "source": [
    "path_data = \"./data/input.txt\""
   ],
   "metadata": {
    "collapsed": false,
    "ExecuteTime": {
     "end_time": "2024-06-12T01:49:36.232404Z",
     "start_time": "2024-06-12T01:49:36.225769Z"
    }
   },
   "id": "1514ce98c38fc07e"
  },
  {
   "cell_type": "code",
   "execution_count": 42,
   "outputs": [],
   "source": [
    "with open(path_data, \"r\", encoding=\"utf-8\") as file:\n",
    "    text = file.read()"
   ],
   "metadata": {
    "collapsed": false,
    "ExecuteTime": {
     "end_time": "2024-06-12T01:49:36.428170Z",
     "start_time": "2024-06-12T01:49:36.424946Z"
    }
   },
   "id": "2f5badf9173646a2"
  },
  {
   "cell_type": "code",
   "execution_count": 43,
   "outputs": [
    {
     "name": "stdout",
     "output_type": "stream",
     "text": [
      "length of dataset in characters:  1115394\n"
     ]
    }
   ],
   "source": [
    "print(\"length of dataset in characters: \", len(text))"
   ],
   "metadata": {
    "collapsed": false,
    "ExecuteTime": {
     "end_time": "2024-06-12T01:49:38.069979Z",
     "start_time": "2024-06-12T01:49:38.065140Z"
    }
   },
   "id": "d2508479dcea4a9f"
  },
  {
   "cell_type": "code",
   "execution_count": 44,
   "outputs": [
    {
     "name": "stdout",
     "output_type": "stream",
     "text": [
      "First Citizen:\n",
      "Before we proceed any further, hear me speak.\n",
      "\n",
      "All:\n",
      "Speak, speak.\n",
      "\n",
      "First Citizen:\n",
      "You are all resolved rather to die than to famish?\n",
      "\n",
      "All:\n",
      "Resolved. resolved.\n",
      "\n",
      "First Citizen:\n",
      "First, you know Caius Marcius is chief enemy to the people.\n",
      "\n",
      "All:\n",
      "We know't, we know't.\n",
      "\n",
      "First Citizen:\n",
      "Let us kill him, and we'll have corn at our own price.\n",
      "Is't a verdict?\n",
      "\n",
      "All:\n",
      "No more talking on't; let it be done: away, away!\n",
      "\n",
      "Second Citizen:\n",
      "One word, good citizens.\n",
      "\n",
      "First Citizen:\n",
      "We are accounted poor citizens, the patricians good.\n",
      "What authority surfeits on would relieve us: if they\n",
      "would yield us but the superfluity, while it were\n",
      "wholesome, we might guess they relieved us humanely;\n",
      "but they think we are too dear: the leanness that\n",
      "afflicts us, the object of our misery, is as an\n",
      "inventory to particularise their abundance; our\n",
      "sufferance is a gain to them Let us revenge this with\n",
      "our pikes, ere we become rakes: for the gods know I\n",
      "speak this in hunger for bread, not in thirst for revenge.\n"
     ]
    }
   ],
   "source": [
    "print(text[:1000])"
   ],
   "metadata": {
    "collapsed": false,
    "ExecuteTime": {
     "end_time": "2024-06-12T01:49:39.595498Z",
     "start_time": "2024-06-12T01:49:39.591615Z"
    }
   },
   "id": "d9e03ba0dd85dbc3"
  },
  {
   "cell_type": "markdown",
   "source": [
    "# Encode vs Decode Models (mô hình mã hoá và giải mã dữ liệu)\n",
    "\n",
    "## Hình ánh: mô tả quá trình encode và decode\n",
    "\n",
    "![Encode-Decode Architecture](./img/encoder-decoder-nx.png)\n",
    "\n",
    "\n",
    "\n",
    "## Các bước đơn giản để thực hiện quá trình encode + decode\n",
    "\n",
    "![Encode-Decode Architecture](./img/process_flow_encode_decode.png)\n",
    "\n",
    "\n",
    "<br>\n",
    "\n",
    "### Describe\n",
    "\n",
    "**Reprocess NLP**\n",
    "- Removing stopword: loại bỏ các kỳ tự mà các bạn cho là ảnh hưởng tới cấu trúc của câu, nói cách khác là loại bỏ các từ các bạn cho là không cụ thể.\n",
    "- Word Segmentation: Phân đoạn từ mình hay gọi là định nghĩa lại một cụm từ (Sinh học (2 từ) --> Sinh_học (1 từ), Vật lý (2 từ)--> Vật_lý (1 từ), ... ).\n",
    "- Text Lemmatization: Sử dụng một bộ từ điển hoặc một bộ ontology nào đó (để viết lại câu đó).\n",
    "\n",
    "**Tokenization**: gọi là tách từ là một trong những bước quan trọng nhất trong quá trình tiền xử lý văn bản và là quá trình tách một cụm từ, câu, đoạn văn, một hoặc nhiều tài liệu văn bản thành các đơn vị nhỏ hơn. Mỗi đơn vị nhỏ hơn này được gọi là Tokens. \n",
    "\n",
    "**Encode**      : Quá trình chuyển đổi Tokens to Tokens-IDs gọi là mã hoá hay Encode.\n",
    "**Decode**      : Những ID này cần được chuyển đổi lại thành văn bản mà con người có thể đọc được. Quá trình này được gọi là giải mã.\n",
    "\n",
    " "
   ],
   "metadata": {
    "collapsed": false
   },
   "id": "8561389908ba46c7"
  },
  {
   "cell_type": "markdown",
   "source": [
    "# How can we make machines read ?\n"
   ],
   "metadata": {
    "collapsed": false
   },
   "id": "e1deb8dd9b927e30"
  },
  {
   "cell_type": "code",
   "execution_count": 7,
   "outputs": [
    {
     "name": "stdout",
     "output_type": "stream",
     "text": [
      "Character include: \n",
      " !$&',-.3:;?ABCDEFGHIJKLMNOPQRSTUVWXYZabcdefghijklmnopqrstuvwxyz\n",
      "\n",
      "Vocabulary size: 65\n"
     ]
    }
   ],
   "source": [
    "# get all unique character that occur in this text\n",
    "\n",
    "chars = sorted(list(set(text)))\n",
    "vocab_size = len(chars)\n",
    "\n",
    "print(f\"Character include: {''.join(chars)}\")\n",
    "print(f\"\\nVocabulary size: {vocab_size}\")\n"
   ],
   "metadata": {
    "collapsed": false,
    "ExecuteTime": {
     "end_time": "2024-06-12T01:29:42.948281Z",
     "start_time": "2024-06-12T01:29:42.945449Z"
    }
   },
   "id": "e74b457424343991"
  },
  {
   "cell_type": "markdown",
   "source": [
    "## Characters Tokenization (Ban đầu)\n",
    "### Phân tích số lượng vocab xuất hiện trong dữ liệu\n",
    "\n",
    "ở đây ta thấy\n",
    "\n",
    "số lượng vocab_size = 65 \n",
    "\n",
    "với các ký tự xuất hiện trong dữ liệu của ta là \n",
    " !$&',-.3:;?ABCDEFGHIJKLMNOPQRSTUVWXYZabcdefghijklmnopqrstuvwxyz"
   ],
   "metadata": {
    "collapsed": false
   },
   "id": "fdb5fc7aabf3eb"
  },
  {
   "cell_type": "code",
   "execution_count": 19,
   "outputs": [],
   "source": [
    "\n",
    "def string_to_int(vocabulary_chars):\n",
    "    stoi = {}\n",
    "    for idx, char in enumerate(vocabulary_chars):\n",
    "        stoi[str(char)] = idx\n",
    "    return stoi\n",
    "\n",
    "\n",
    "def int_to_string(vocabulary_chars):\n",
    "    itos = {}\n",
    "    for idx, char in enumerate(vocabulary_chars):\n",
    "        itos[int(idx)] = char\n",
    "    return itos\n",
    "\n",
    "\n",
    "dict_string_to_int = string_to_int(chars)\n",
    "dict_int_to_string = int_to_string(chars)\n",
    "\n",
    "\n"
   ],
   "metadata": {
    "collapsed": false,
    "ExecuteTime": {
     "end_time": "2024-06-09T16:28:50.307453Z",
     "start_time": "2024-06-09T16:28:50.303762Z"
    }
   },
   "id": "b761de1d389734d6"
  },
  {
   "cell_type": "code",
   "execution_count": 31,
   "outputs": [
    {
     "name": "stdout",
     "output_type": "stream",
     "text": [
      "List Tokenizer:    [46, 47, 47, 1, 58, 46, 43, 56, 43]\n",
      "Decode Tokenizer:  hii there\n"
     ]
    }
   ],
   "source": [
    "# Building Encode Decode architecture\n",
    "def encode(text, stoi):\n",
    "    list_idx = []\n",
    "    for char in text:\n",
    "        list_idx.append(stoi[str(char)])\n",
    "    return list_idx\n",
    "\n",
    "\n",
    "def decode(list_idx, itos):\n",
    "    list_char = []\n",
    "    for idx in list_idx:\n",
    "        list_char.append(itos[idx])\n",
    "    return ''.join(list_char)\n",
    "\n",
    "\n",
    "list_idx = encode(\"hii there\", dict_string_to_int)\n",
    "text = decode(list_idx, dict_int_to_string)\n",
    "\n",
    "print(\"List Tokenizer:   \", list_idx)\n",
    "print(\"Decode Tokenizer: \", text)\n"
   ],
   "metadata": {
    "collapsed": false,
    "ExecuteTime": {
     "end_time": "2024-06-10T04:01:13.151042Z",
     "start_time": "2024-06-10T04:01:13.147554Z"
    }
   },
   "id": "8600ee7474bb10e7"
  },
  {
   "cell_type": "markdown",
   "source": [
    "### Vấn đề của Character Tokenization là gì ? (Ưu điểm vs Nhược điểm)\n",
    "\n",
    "\n",
    "**Ưu điểm**\n",
    "- Có thể mãu hoá được tất cả \n",
    "- Vocab_size nhỏ\n",
    "\n",
    "**Nhược điểm**\n",
    "- Số lượng dim rất lớn --> tốn kém resource (1 câu 2 từ giờ phải xử lý thành ~ 10 tokens có thể hơn)\n",
    "- các ký tự không thể hiện đủ các quan hệ các word trong thực tế tạo ra sự khó khăn trong việc học (incorrect sematics)\n"
   ],
   "metadata": {
    "collapsed": false
   },
   "id": "9c8c872054d4e5f7"
  },
  {
   "cell_type": "markdown",
   "source": [
    "## Word Tokenization Truyền Thống\n"
   ],
   "metadata": {
    "collapsed": false
   },
   "id": "f4cd86eea68875e3"
  },
  {
   "cell_type": "code",
   "execution_count": 54,
   "outputs": [],
   "source": [
    "import re"
   ],
   "metadata": {
    "collapsed": false,
    "ExecuteTime": {
     "end_time": "2024-06-10T04:43:05.299728Z",
     "start_time": "2024-06-10T04:43:05.295875Z"
    }
   },
   "id": "a5ca83ecca7a13de"
  },
  {
   "cell_type": "code",
   "execution_count": 41,
   "outputs": [
    {
     "name": "stdout",
     "output_type": "stream",
     "text": [
      "Character include: ['', \"&C:\\nWe'll\", '&C:\\nWeapons,', '&c.\\n\\nMONTAGUE:\\nAnd', \"'\", \"'?\\n\\nThird\", \"'A\", \"'Alas,\", \"'Alas,'\\nI\", \"'Ay\", \"'Ay,'\", \"'Ay,'\\nAnd\", \"'Ay.'\\n\\nJULIET:\\nAnd\", \"'Ay.'\\n\\nLADY\", \"'Ay.'\\nAnd\", \"'Ay.'\\nTo\", \"'Be\", \"'Beseech\", \"'Bless\", \"'Brutus!'\", \"'By\", \"'Charge\", \"'Charge!\", \"'Citizens!'\", \"'Citizens!'\\n'Peace,\", \"'Come,\", \"'Commend\", \"'Content'\", \"'Coriolanus!'\", \"'Courage!'\", \"'Courage,\", \"'Dear\", \"'Death.'\\nInsisting\", \"'Deny\", \"'Do\", \"'Fine;'\", \"'Forgive\", \"'G'\\nOf\", \"'God\", \"'Good\", \"'He\", \"'Heart's\", \"'Hell\", \"'Hic\", \"'I\", \"'I'\", \"'I';\", \"'I'll\", \"'I,'\\nAnd\", \"'I.'\\nIf\", \"'Is\", \"'It\", \"'Jack,\", \"'King\", \"'Lo,\", \"'Margaret.'\\n\\nQUEEN\", \"'My\", \"'My\\nheart\", \"'O\", \"'O,\", \"'Patricians!'\", \"'Priami,'\", \"'Remember\", \"'Retire,'\", \"'Rise;'\", \"'Romeo\", \"'Saint\", \"'She\", \"'Simois,'\", \"'Sir,\", \"'Sirrah,\", \"'Stay,\", \"'Stay:\", \"'Thanks,\", \"'The\", \"'This\", \"'Tis\", \"'True,\", \"'Twas\", \"'Two\", \"'Tybalt's\", \"'Verily'\", \"'Verily,'\\nOne\", \"'We\", \"'Welcome,\", \"'What\", \"'What,\", \"'Whoop,\", \"'Why\", \"'Will't\", \"'Wilt\", \"'Zounds,\", \"'aged\", \"'all\", \"'almost\", \"'ay'\", \"'banished'\", \"'banished'?\", \"'banished'?\\n\\nFRIAR\", \"'banished,'\"]\n",
      "\n",
      "Vocabulary size: 42194\n"
     ]
    }
   ],
   "source": [
    "# get all unique word that occur in this text\n",
    "\n",
    "words_nsw = sorted(list(set([t.strip() for t in text.split(' ')])))\n",
    "vocab_size_nsw = len(words_nsw)\n",
    "\n",
    "print(f\"Words include: {words_nsw[:100]}\")\n",
    "print(f\"\\nVocabulary size: {vocab_size_nsw}\")"
   ],
   "metadata": {
    "collapsed": false,
    "ExecuteTime": {
     "end_time": "2024-06-10T04:31:54.713001Z",
     "start_time": "2024-06-10T04:31:54.709628Z"
    }
   },
   "id": "b0a950ce263075f0"
  },
  {
   "cell_type": "code",
   "execution_count": null,
   "outputs": [],
   "source": [
    "with open(\"./data/vocab_words_nsw.txt\", \"w\", encoding=\"utf-8\") as file:\n",
    "    file.write(\"\\n\".join(words_nsw))"
   ],
   "metadata": {
    "collapsed": false
   },
   "id": "9a035efd233f36c9"
  },
  {
   "cell_type": "code",
   "execution_count": 50,
   "outputs": [],
   "source": [
    "# we need to process stoo word\n",
    "def tokenize_with_regex(text):\n",
    "    # This regex will match words including those with apostrophes and hyphens\n",
    "    return re.findall(r\"\\b\\w[\\w'-]*\\b\", text)"
   ],
   "metadata": {
    "collapsed": false,
    "ExecuteTime": {
     "end_time": "2024-06-12T01:54:07.787352Z",
     "start_time": "2024-06-12T01:54:07.496109Z"
    }
   },
   "id": "8e6f585b8d07caca"
  },
  {
   "cell_type": "code",
   "execution_count": 56,
   "outputs": [
    {
     "name": "stdout",
     "output_type": "stream",
     "text": [
      "Words include: ['3', 'A', 'ABHORSON', 'ABRAHAM', 'ADRIAN', 'AEacides', 'AEdile', 'AEdiles', 'AEneas', 'AEsop', 'ALL', 'ALONSO', 'ANGELO', 'ANNE', 'ANOTHER', 'ANTIGONUS', 'ANTONIO', 'ARCHBISHOP', 'ARCHIDAMUS', 'ARIEL', 'AUFIDIUS', 'AUMERLE', 'AUTOLYCUS', 'Abase', 'Abate', 'Abated', 'Abbot', \"Abel's\", 'Abhorred', 'Abhorson', 'Abides', 'Able', 'About', 'Above', 'Abraham', \"Abraham's\", 'Absolute', 'Accept', \"Accomplish'd\", 'According', 'Accords', 'Account', 'Accountant', 'Accursed', 'Accuse', 'Achieve', 'Acquaint', 'Action', 'Adam', \"Adam's\", 'Add', 'Added', 'Adding', 'Address', 'Adieu', 'Adjudged', 'Admit', 'Adonis', 'Adoptedly', 'Adopts', 'Adrian', 'Adriatic', 'Advance', 'Advantaging', \"Adversity's\", 'Advertising', \"Advocate's\", 'Affection', \"Affection's\", 'Affliction', 'Affrighted', 'Affrights', 'Affront', 'Afore', 'Afresh', 'Afric', 'African', 'After', 'Again', 'Against', \"Agamemnon's\", 'Age', 'Aged', 'Agenor', 'Agreed', 'Agrippa', 'Ah', \"Aim'd\", 'Aiming', 'Airy', 'Ajax', \"Al'ce\", 'Alack', 'Alas', \"Alban's\", 'Albeit', 'Albion', \"Albion's\", 'Alcides', 'Alexander']\n",
      "\n",
      "Vocabulary size: 14868\n"
     ]
    }
   ],
   "source": [
    "\n",
    "\n",
    "words_sw = sorted(list(set(tokenize_with_regex(text))))\n",
    "vocab_size_sw = len(words_sw)\n",
    "print(f\"Words include: {words_sw[:100]}\")\n",
    "print(f\"\\nVocabulary size: {vocab_size_sw}\")\n"
   ],
   "metadata": {
    "collapsed": false,
    "ExecuteTime": {
     "end_time": "2024-06-10T04:43:48.624994Z",
     "start_time": "2024-06-10T04:43:48.621455Z"
    }
   },
   "id": "2f20bcf004cfafb5"
  },
  {
   "cell_type": "code",
   "execution_count": 51,
   "outputs": [],
   "source": [
    "with open(\"./data/vocab_words_sw.txt\", \"w\", encoding=\"utf-8\") as file:\n",
    "    file.write(\"\\n\".join(words_sw))"
   ],
   "metadata": {
    "collapsed": false,
    "ExecuteTime": {
     "end_time": "2024-06-10T04:38:19.677351Z",
     "start_time": "2024-06-10T04:38:19.670025Z"
    }
   },
   "id": "348c886b0c4573c2"
  },
  {
   "cell_type": "code",
   "execution_count": 57,
   "outputs": [],
   "source": [
    "dict_string_to_int = string_to_int(words_sw)\n",
    "dict_int_to_string = int_to_string(words_sw)"
   ],
   "metadata": {
    "collapsed": false,
    "ExecuteTime": {
     "end_time": "2024-06-10T04:43:51.419258Z",
     "start_time": "2024-06-10T04:43:51.413201Z"
    }
   },
   "id": "79fb98775ae114e7"
  },
  {
   "cell_type": "code",
   "execution_count": 70,
   "outputs": [
    {
     "name": "stdout",
     "output_type": "stream",
     "text": [
      "you'll\n",
      "wonder\n",
      "List Tokenizer:    [14846, 14709]\n",
      "Decode Tokenizer:  you'll wonder\n"
     ]
    }
   ],
   "source": [
    "# Building Encode Decode architecture\n",
    "def encode_sw(text, stoi):\n",
    "    list_idx = []\n",
    "    for word in tokenize_with_regex(text):\n",
    "        print(word)\n",
    "        list_idx.append(stoi[str(word)])\n",
    "    return list_idx\n",
    "\n",
    "\n",
    "def decode_sw(list_idx, itos):\n",
    "    list_char = []\n",
    "    for idx in list_idx:\n",
    "        list_char.append(itos[idx])\n",
    "    return ' '.join(list_char)\n",
    "\n",
    "\n",
    "list_idx = encode_sw(\"you'll wonder\", dict_string_to_int)\n",
    "text = decode_sw(list_idx, dict_int_to_string)\n",
    "\n",
    "print(\"List Tokenizer:   \", list_idx)\n",
    "print(\"Decode Tokenizer: \", text)"
   ],
   "metadata": {
    "collapsed": false,
    "ExecuteTime": {
     "end_time": "2024-06-10T04:48:39.709786Z",
     "start_time": "2024-06-10T04:48:39.706963Z"
    }
   },
   "id": "cd4569309a9950a0"
  },
  {
   "cell_type": "markdown",
   "source": [
    "### Vấn đề của Word Tokenization truyền thống là gì ? (Ưu điểm vs Nhược điểm)\n",
    "\n",
    "\n",
    "**Ưu điểm**\n",
    "- Giảm số lượng token-IDs.\n",
    "- mô tả được sự liên kêt giữa các token (nhưng yếu).\n",
    "\n",
    "**Nhược điểm**\n",
    "- Vocab_size rất lớn (phải phủ hết các word trên đời các từ Let hay Let's đều phải lưu). --> vocab_size bị trùng rất nhiều\n",
    "- Missing Words \n",
    "- Không xử lý được các ngôn ngữ các từ không được quy định bởi dấu cách. (như tiếng Trung Quốc hay Tiếng Nhật nè)"
   ],
   "metadata": {
    "collapsed": false
   },
   "id": "3a77db03755ab7ba"
  },
  {
   "cell_type": "markdown",
   "source": [
    "## SubWord Tokenization (Model-based tokenization)\n",
    "\n",
    "Từ 2 phương pháp character-based vs word-based ta có rút ra như thế này. Để có thể phát triển các kỹ thuật tokenization ta cần \n",
    "\n",
    "- Có thể biểu diễn đầy đủ từ. Nhưng phải hạn chế số lượng tokenIDs sinh ra --> giảm các phép tính bị trùng lắp\n",
    "- Phải biểu diễn đầy đủ ý nghĩa (sematics present) \n",
    "\n",
    "Subword ra đời để giải quyết 2 vấn đề phía trên \n",
    "\n",
    "Một số phương pháp nổi tiếng sử dụng phương pháp SubWord Tokenization \n",
    "\n",
    "- Byte-Pair Encoding (BPE)\n",
    "- Unigram\n",
    "- SentencePiece (Google Tokenization)\n",
    "- WordPiece \n",
    "\n",
    "\n",
    "Một số so sánh giữa các phương pháp \n",
    "\n"
   ],
   "metadata": {
    "collapsed": false
   },
   "id": "f3ce114fa8448263"
  },
  {
   "cell_type": "markdown",
   "source": [
    "|            |                 Byte-Pair Encoding                   |                   SentencePiece                    |                           WordPiece |\n",
    "|:-----------|:----------------------------------------------------:|:--------------------------------------------------:|------------------------------------:|\n",
    "| Lossless   |                      full(GPT)                       |  - full (eg chữ ký tự)<br/>- partial (chữ latin)   |                                full |\n",
    "| Base vocab |                         256                          | large (all character) and most frequent substrings | unicode characters in training data |\n",
    "| Rules      |                  Merge by frequency                  |         Trim by minimizing likelihood loss         |      Merge by maximizing likelihood |\n",
    "| Used by    |                     GPT, Roberta                     |                T5, XLNet, Reformer                 |                   BERT, DistillBert |\n",
    "| Year       | [2016] <br/> lấy ra các từ hiếm thông qua các từ phụ |          [2018] <br/> BPE + Unigram                |                                     |"
   ],
   "metadata": {
    "collapsed": false
   },
   "id": "654537c8e6d1bdd0"
  },
  {
   "cell_type": "markdown",
   "source": [
    "**BPE**\n",
    "Nguyên lý hoạt động:\n",
    "   - Quy trình: BPE bắt đầu với một danh sách các ký tự đơn lẻ và dần dần ghép các cặp ký tự phổ biến nhất thành các token lớn hơn. Quy trình này lặp đi lặp lại cho đến khi đạt được số lượng token mong muốn.\n",
    "   - Mục tiêu: Tối ưu hóa cho việc giảm số lượng token cần thiết để biểu diễn văn bản mà không mất quá nhiều thông tin.\n",
    "   - Đặc điểm:\n",
    "        - Dễ hiểu và dễ triển khai.\n",
    "        - Hoạt động tốt cho các ngôn ngữ có sử dụng khoảng trắng giữa các từ như tiếng Anh.\n",
    "\n",
    "\n",
    "Các bước để xây dựng BPE bao gồm \n",
    "\n",
    "   - Step 1: Tách các word có trong kho dữ liệu \n",
    "   - Step 2: Chia từ thành các ký tự rồi tính tần số ký tự.\n",
    "   - Step 3: Extract BPE merges\n",
    "   - Step 4: Convert merges to a dictionary for quick lookup"
   ],
   "metadata": {
    "collapsed": false
   },
   "id": "a9a8369e0957c0f5"
  },
  {
   "cell_type": "code",
   "execution_count": 51,
   "outputs": [
    {
     "name": "stdout",
     "output_type": "stream",
     "text": [
      "Iteration 1\n",
      "Iteration 2\n",
      "Iteration 3\n",
      "Iteration 4\n"
     ]
    }
   ],
   "source": [
    "import re\n",
    "from collections import Counter\n",
    "\n",
    "def get_pairs(word):\n",
    "    \"\"\"Return set of symbol pairs in a word.\"\"\"\n",
    "    pairs = set()\n",
    "    if len(word) < 2:\n",
    "        return pairs\n",
    "    prev_char = word[0]\n",
    "    for char in word[1:]:\n",
    "        pairs.add((prev_char, char))\n",
    "        prev_char = char\n",
    "    return pairs\n",
    "\n",
    "def merge_vocab(pair, vocab):\n",
    "    \"\"\"Merge all occurrences of the most frequent pair in the vocabulary.\"\"\"\n",
    "    new_vocab = {}\n",
    "    bigram = ''.join(pair)\n",
    "    for word, freq in vocab.items():\n",
    "        new_word = re.sub(r'\\b{}\\b'.format(' '.join(pair)), bigram, word)\n",
    "        new_vocab[new_word] = freq\n",
    "    return new_vocab\n",
    "\n",
    "def extract_bpe_merges(vocab, num_merges):\n",
    "    \"\"\"Extract BPE merges from the vocabulary.\"\"\"\n",
    "    merges = []\n",
    "    for i in range(num_merges):\n",
    "        pairs = Counter()\n",
    "        for word, freq in vocab.items():\n",
    "            pairs.update(get_pairs(word.split()))\n",
    "        \n",
    "        if not pairs:\n",
    "            break\n",
    "\n",
    "        best = max(pairs, key=pairs.get)\n",
    "        vocab = merge_vocab(best, vocab)\n",
    "\n",
    "        # Merge the best pair\n",
    "        vocab = {word.replace(' '.join(best), ''.join(best)): freq for word, freq in vocab.items()}\n",
    "        merges.append(best)\n",
    "\n",
    "        # Print iteration for debugging\n",
    "        print(f\"Iteration {i + 1}\")\n",
    "\n",
    "    return vocab, merges\n",
    "\n",
    "def tokenize(word, merges):\n",
    "    \"\"\"Tokenize a word using BPE merges.\"\"\"\n",
    "    word = list(word)\n",
    "    pairs = get_pairs(word)\n",
    "\n",
    "    while pairs:\n",
    "        bigram = min(pairs, key=lambda pair: merges.get(pair, float('inf')))\n",
    "        if bigram not in merges:\n",
    "            break\n",
    "        first, second = bigram\n",
    "        new_word = []\n",
    "        i = 0\n",
    "        while i < len(word):\n",
    "            try:\n",
    "                j = word.index(first, i)\n",
    "                new_word.extend(word[i:j])\n",
    "                i = j\n",
    "            except:\n",
    "                new_word.extend(word[i:])\n",
    "                break\n",
    "\n",
    "            if word[i] == first and i < len(word) - 1 and word[i + 1] == second:\n",
    "                new_word.append(first + second)\n",
    "                i += 2\n",
    "            else:\n",
    "                new_word.append(word[i])\n",
    "                i += 1\n",
    "        word = new_word\n",
    "        if len(word) == 1:\n",
    "            break\n",
    "        else:\n",
    "            pairs = get_pairs(word)\n",
    "    return ' '.join(word)\n",
    "\n",
    "def create_token_to_id_mapping(vocab):\n",
    "    \"\"\"Create a mapping from tokens to unique IDs.\"\"\"\n",
    "    token_to_id = {}\n",
    "    id_to_token = {}\n",
    "    current_id = 0\n",
    "    \n",
    "    for word in vocab:\n",
    "        tokens = word.split()\n",
    "        for token in tokens:\n",
    "            if token not in token_to_id:\n",
    "                token_to_id[token] = current_id\n",
    "                id_to_token[current_id] = token\n",
    "                current_id += 1\n",
    "\n",
    "    return token_to_id, id_to_token\n",
    "\n",
    "def tokenize_with_regex(text):\n",
    "    \"\"\"Tokenize text into words using regex.\"\"\"\n",
    "    return re.findall(r'\\w+|\\S', text)\n",
    "\n",
    "# Example usage:\n",
    "words = tokenize_with_regex(text)\n",
    "vocab = dict(Counter(words))\n",
    "\n",
    "# Convert words to list of characters with spaces\n",
    "vocab = {' '.join(word): freq for word, freq in vocab.items()}\n",
    "\n",
    "# Extract BPE merges\n",
    "num_merges = 200\n",
    "final_vocab, merges = extract_bpe_merges(vocab, num_merges)\n",
    "\n",
    "# Create a dictionary for quick lookup of merges\n",
    "bpe_merges = {merge: i for i, merge in enumerate(merges)}\n",
    "\n",
    "# Create string to ids and int to string mappings\n",
    "bpe_string_to_id, bpe_int_to_string = create_token_to_id_mapping(final_vocab)\n"
   ],
   "metadata": {
    "collapsed": false,
    "ExecuteTime": {
     "end_time": "2024-06-12T02:01:45.873727Z",
     "start_time": "2024-06-12T02:01:45.865942Z"
    }
   },
   "id": "5ac5100f80dac07c"
  },
  {
   "cell_type": "code",
   "execution_count": 49,
   "outputs": [
    {
     "name": "stdout",
     "output_type": "stream",
     "text": [
      "Original word: Hii\n",
      "Tokens: H i i\n",
      "List Tokenizer:    [246, 5, 5]\n",
      "Decode Tokenizer:  Hii \n",
      "\n",
      "Original word: there\n",
      "Tokens: th er e\n",
      "List Tokenizer:    [39, 320, 57]\n",
      "Decode Tokenizer:  there \n"
     ]
    }
   ],
   "source": [
    "# using Words to Tokenizer\n",
    "def bpe_encode(tokens, bpe_string_to_id):\n",
    "    return [bpe_string_to_id[str(token)] for token in tokens.split()]\n",
    "\n",
    "\n",
    "def bpe_decode(list_idx, bpe_int_to_string):\n",
    "    return ''.join([bpe_int_to_string[ids] for ids in list_idx])\n",
    "\n",
    "\n",
    "text_input = \"Hii there\"\n",
    "words = text_input.split(' ')\n",
    "for word in words:\n",
    "    print(f\"Original word: {word}\")\n",
    "    tokens = tokenize(word, bpe_merges)\n",
    "    print(f\"Tokens: {tokens}\")\n",
    "\n",
    "    list_idx = bpe_encode(tokens, bpe_string_to_id)\n",
    "    text = bpe_decode(list_idx, bpe_int_to_string)\n",
    "    print(\"List Tokenizer:   \", list_idx)\n",
    "    print(\"Decode Tokenizer: \", text, \"\\n\")\n",
    "\n"
   ],
   "metadata": {
    "collapsed": false,
    "ExecuteTime": {
     "end_time": "2024-06-12T01:53:37.570078Z",
     "start_time": "2024-06-12T01:53:37.276301Z"
    }
   },
   "id": "3ea9a997c08a5f81"
  },
  {
   "cell_type": "code",
   "execution_count": null,
   "outputs": [],
   "source": [],
   "metadata": {
    "collapsed": false
   },
   "id": "a8ca7795f9a2fb13"
  }
 ],
 "metadata": {
  "kernelspec": {
   "display_name": "Python 3",
   "language": "python",
   "name": "python3"
  },
  "language_info": {
   "codemirror_mode": {
    "name": "ipython",
    "version": 2
   },
   "file_extension": ".py",
   "mimetype": "text/x-python",
   "name": "python",
   "nbconvert_exporter": "python",
   "pygments_lexer": "ipython2",
   "version": "2.7.6"
  }
 },
 "nbformat": 4,
 "nbformat_minor": 5
}
