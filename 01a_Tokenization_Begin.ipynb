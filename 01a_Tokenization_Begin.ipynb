{
 "cells": [
  {
   "cell_type": "code",
   "execution_count": 1,
   "id": "initial_id",
   "metadata": {
    "collapsed": true,
    "ExecuteTime": {
     "end_time": "2024-06-09T09:53:43.652586Z",
     "start_time": "2024-06-09T09:53:43.529356Z"
    }
   },
   "outputs": [
    {
     "name": "stdout",
     "output_type": "stream",
     "text": [
      "/Users/nguyenthaihoc/Desktop/FUJINET/AI-Engineer\r\n"
     ]
    }
   ],
   "source": [
    "!pwd "
   ]
  },
  {
   "cell_type": "code",
   "execution_count": 25,
   "outputs": [],
   "source": [
    "path_data = \"./data/input.txt\""
   ],
   "metadata": {
    "collapsed": false,
    "ExecuteTime": {
     "end_time": "2024-06-10T03:59:05.728571Z",
     "start_time": "2024-06-10T03:59:05.724434Z"
    }
   },
   "id": "1514ce98c38fc07e"
  },
  {
   "cell_type": "code",
   "execution_count": 80,
   "outputs": [],
   "source": [
    "with open(path_data, \"r\", encoding=\"utf-8\") as file:\n",
    "    text = file.read()"
   ],
   "metadata": {
    "collapsed": false,
    "ExecuteTime": {
     "end_time": "2024-06-10T12:55:26.474027Z",
     "start_time": "2024-06-10T12:55:26.467857Z"
    }
   },
   "id": "2f5badf9173646a2"
  },
  {
   "cell_type": "code",
   "execution_count": 27,
   "outputs": [
    {
     "name": "stdout",
     "output_type": "stream",
     "text": [
      "length of dataset in characters:  1115394\n"
     ]
    }
   ],
   "source": [
    "print(\"length of dataset in characters: \", len(text))"
   ],
   "metadata": {
    "collapsed": false,
    "ExecuteTime": {
     "end_time": "2024-06-10T03:59:06.806231Z",
     "start_time": "2024-06-10T03:59:06.802429Z"
    }
   },
   "id": "d2508479dcea4a9f"
  },
  {
   "cell_type": "code",
   "execution_count": 28,
   "outputs": [
    {
     "name": "stdout",
     "output_type": "stream",
     "text": [
      "First Citizen:\n",
      "Before we proceed any further, hear me speak.\n",
      "\n",
      "All:\n",
      "Speak, speak.\n",
      "\n",
      "First Citizen:\n",
      "You are all resolved rather to die than to famish?\n",
      "\n",
      "All:\n",
      "Resolved. resolved.\n",
      "\n",
      "First Citizen:\n",
      "First, you know Caius Marcius is chief enemy to the people.\n",
      "\n",
      "All:\n",
      "We know't, we know't.\n",
      "\n",
      "First Citizen:\n",
      "Let us kill him, and we'll have corn at our own price.\n",
      "Is't a verdict?\n",
      "\n",
      "All:\n",
      "No more talking on't; let it be done: away, away!\n",
      "\n",
      "Second Citizen:\n",
      "One word, good citizens.\n",
      "\n",
      "First Citizen:\n",
      "We are accounted poor citizens, the patricians good.\n",
      "What authority surfeits on would relieve us: if they\n",
      "would yield us but the superfluity, while it were\n",
      "wholesome, we might guess they relieved us humanely;\n",
      "but they think we are too dear: the leanness that\n",
      "afflicts us, the object of our misery, is as an\n",
      "inventory to particularise their abundance; our\n",
      "sufferance is a gain to them Let us revenge this with\n",
      "our pikes, ere we become rakes: for the gods know I\n",
      "speak this in hunger for bread, not in thirst for revenge.\n"
     ]
    }
   ],
   "source": [
    "print(text[:1000])"
   ],
   "metadata": {
    "collapsed": false,
    "ExecuteTime": {
     "end_time": "2024-06-10T03:59:07.720186Z",
     "start_time": "2024-06-10T03:59:07.716487Z"
    }
   },
   "id": "d9e03ba0dd85dbc3"
  },
  {
   "cell_type": "markdown",
   "source": [
    "# Encode vs Decode Models (mô hình mã hoá và giải mã dữ liệu)\n",
    "\n",
    "## Hình ánh: mô tả quá trình encode và decode\n",
    "\n",
    "![Encode-Decode Architecture](./img/encoder-decoder-nx.png)\n",
    "\n",
    "\n",
    "\n",
    "## Các bước đơn giản để thực hiện quá trình encode + decode\n",
    "\n",
    "![Encode-Decode Architecture](./img/process_flow_encode_decode.png)\n",
    "\n",
    "\n",
    "<br>\n",
    "\n",
    "### Describe\n",
    "\n",
    "**Reprocess NLP**\n",
    "- Removing stopword: loại bỏ các kỳ tự mà các bạn cho là ảnh hưởng tới cấu trúc của câu, nói cách khác là loại bỏ các từ các bạn cho là không cụ thể.\n",
    "- Word Segmentation: Phân đoạn từ mình hay gọi là định nghĩa lại một cụm từ (Sinh học (2 từ) --> Sinh_học (1 từ), Vật lý (2 từ)--> Vật_lý (1 từ), ... ).\n",
    "- Text Lemmatization: Sử dụng một bộ từ điển hoặc một bộ ontology nào đó (để viết lại câu đó).\n",
    "\n",
    "**Tokenization**: gọi là tách từ là một trong những bước quan trọng nhất trong quá trình tiền xử lý văn bản và là quá trình tách một cụm từ, câu, đoạn văn, một hoặc nhiều tài liệu văn bản thành các đơn vị nhỏ hơn. Mỗi đơn vị nhỏ hơn này được gọi là Tokens. \n",
    "\n",
    "**Encode**      : Quá trình chuyển đổi Tokens to Tokens-IDs gọi là mã hoá hay Encode.\n",
    "**Decode**      : Những ID này cần được chuyển đổi lại thành văn bản mà con người có thể đọc được. Quá trình này được gọi là giải mã.\n",
    "\n",
    " "
   ],
   "metadata": {
    "collapsed": false
   },
   "id": "8561389908ba46c7"
  },
  {
   "cell_type": "markdown",
   "source": [
    "# How can we make machines read ?\n"
   ],
   "metadata": {
    "collapsed": false
   },
   "id": "e1deb8dd9b927e30"
  },
  {
   "cell_type": "code",
   "execution_count": 30,
   "outputs": [
    {
     "name": "stdout",
     "output_type": "stream",
     "text": [
      "Character include: \n",
      " !$&',-.3:;?ABCDEFGHIJKLMNOPQRSTUVWXYZabcdefghijklmnopqrstuvwxyz\n",
      "\n",
      "Vocabulary size: 65\n"
     ]
    }
   ],
   "source": [
    "# get all unique character that occur in this text\n",
    "\n",
    "chars = sorted(list(set(text)))\n",
    "vocab_size = len(chars)\n",
    "\n",
    "print(f\"Character include: {''.join(chars)}\")\n",
    "print(f\"\\nVocabulary size: {vocab_size}\")\n"
   ],
   "metadata": {
    "collapsed": false,
    "ExecuteTime": {
     "end_time": "2024-06-10T04:00:21.949516Z",
     "start_time": "2024-06-10T04:00:21.945879Z"
    }
   },
   "id": "e74b457424343991"
  },
  {
   "cell_type": "markdown",
   "source": [
    "## Characters Tokenization (Ban đầu)\n",
    "### Phân tích số lượng vocab xuất hiện trong dữ liệu\n",
    "\n",
    "ở đây ta thấy\n",
    "\n",
    "số lượng vocab_size = 65 \n",
    "\n",
    "với các ký tự xuất hiện trong dữ liệu của ta là \n",
    " !$&',-.3:;?ABCDEFGHIJKLMNOPQRSTUVWXYZabcdefghijklmnopqrstuvwxyz"
   ],
   "metadata": {
    "collapsed": false
   },
   "id": "fdb5fc7aabf3eb"
  },
  {
   "cell_type": "code",
   "execution_count": 19,
   "outputs": [],
   "source": [
    "\n",
    "def string_to_int(vocabulary_chars):\n",
    "    stoi = {}\n",
    "    for idx, char in enumerate(vocabulary_chars):\n",
    "        stoi[str(char)] = idx\n",
    "    return stoi\n",
    "        \n",
    "def int_to_string(vocabulary_chars):\n",
    "    itos = {}\n",
    "    for idx, char in enumerate(vocabulary_chars):\n",
    "        itos[int(idx)] = char\n",
    "    return itos\n",
    "\n",
    "\n",
    "dict_string_to_int = string_to_int(chars) \n",
    "dict_int_to_string = int_to_string(chars)\n",
    "\n",
    "\n"
   ],
   "metadata": {
    "collapsed": false,
    "ExecuteTime": {
     "end_time": "2024-06-09T16:28:50.307453Z",
     "start_time": "2024-06-09T16:28:50.303762Z"
    }
   },
   "id": "b761de1d389734d6"
  },
  {
   "cell_type": "code",
   "execution_count": 31,
   "outputs": [
    {
     "name": "stdout",
     "output_type": "stream",
     "text": [
      "List Tokenizer:    [46, 47, 47, 1, 58, 46, 43, 56, 43]\n",
      "Decode Tokenizer:  hii there\n"
     ]
    }
   ],
   "source": [
    "# Building Encode Decode architecture\n",
    "def encode(text, stoi):\n",
    "    list_idx = []\n",
    "    for char in text:\n",
    "        list_idx.append(stoi[str(char)])\n",
    "    return list_idx\n",
    "        \n",
    "def decode(list_idx, itos):\n",
    "    list_char = []\n",
    "    for idx in list_idx:\n",
    "        list_char.append(itos[idx])\n",
    "    return ''.join(list_char)\n",
    "\n",
    "list_idx = encode(\"hii there\", dict_string_to_int)\n",
    "text = decode(list_idx, dict_int_to_string)\n",
    "\n",
    "print(\"List Tokenizer:   \", list_idx)\n",
    "print(\"Decode Tokenizer: \", text)\n"
   ],
   "metadata": {
    "collapsed": false,
    "ExecuteTime": {
     "end_time": "2024-06-10T04:01:13.151042Z",
     "start_time": "2024-06-10T04:01:13.147554Z"
    }
   },
   "id": "8600ee7474bb10e7"
  },
  {
   "cell_type": "markdown",
   "source": [
    "### Vấn đề của Character Tokenization là gì ? (Ưu điểm vs Nhược điểm)\n",
    "\n",
    "\n",
    "**Ưu điểm**\n",
    "- Có thể mãu hoá được tất cả \n",
    "- Vocab_size nhỏ\n",
    "\n",
    "**Nhược điểm**\n",
    "- Số lượng dim rất lớn --> tốn kém resource (1 câu 2 từ giờ phải xử lý thành ~ 10 tokens có thể hơn)\n",
    "- các ký tự không thể hiện đủ các quan hệ các word trong thực tế tạo ra sự khó khăn trong việc học (incorrect sematics)\n"
   ],
   "metadata": {
    "collapsed": false
   },
   "id": "9c8c872054d4e5f7"
  },
  {
   "cell_type": "markdown",
   "source": [
    "## Word Tokenization Truyền Thống\n"
   ],
   "metadata": {
    "collapsed": false
   },
   "id": "f4cd86eea68875e3"
  },
  {
   "cell_type": "code",
   "execution_count": 54,
   "outputs": [],
   "source": [
    "import re"
   ],
   "metadata": {
    "collapsed": false,
    "ExecuteTime": {
     "end_time": "2024-06-10T04:43:05.299728Z",
     "start_time": "2024-06-10T04:43:05.295875Z"
    }
   },
   "id": "a5ca83ecca7a13de"
  },
  {
   "cell_type": "code",
   "execution_count": 41,
   "outputs": [
    {
     "name": "stdout",
     "output_type": "stream",
     "text": [
      "Character include: ['', \"&C:\\nWe'll\", '&C:\\nWeapons,', '&c.\\n\\nMONTAGUE:\\nAnd', \"'\", \"'?\\n\\nThird\", \"'A\", \"'Alas,\", \"'Alas,'\\nI\", \"'Ay\", \"'Ay,'\", \"'Ay,'\\nAnd\", \"'Ay.'\\n\\nJULIET:\\nAnd\", \"'Ay.'\\n\\nLADY\", \"'Ay.'\\nAnd\", \"'Ay.'\\nTo\", \"'Be\", \"'Beseech\", \"'Bless\", \"'Brutus!'\", \"'By\", \"'Charge\", \"'Charge!\", \"'Citizens!'\", \"'Citizens!'\\n'Peace,\", \"'Come,\", \"'Commend\", \"'Content'\", \"'Coriolanus!'\", \"'Courage!'\", \"'Courage,\", \"'Dear\", \"'Death.'\\nInsisting\", \"'Deny\", \"'Do\", \"'Fine;'\", \"'Forgive\", \"'G'\\nOf\", \"'God\", \"'Good\", \"'He\", \"'Heart's\", \"'Hell\", \"'Hic\", \"'I\", \"'I'\", \"'I';\", \"'I'll\", \"'I,'\\nAnd\", \"'I.'\\nIf\", \"'Is\", \"'It\", \"'Jack,\", \"'King\", \"'Lo,\", \"'Margaret.'\\n\\nQUEEN\", \"'My\", \"'My\\nheart\", \"'O\", \"'O,\", \"'Patricians!'\", \"'Priami,'\", \"'Remember\", \"'Retire,'\", \"'Rise;'\", \"'Romeo\", \"'Saint\", \"'She\", \"'Simois,'\", \"'Sir,\", \"'Sirrah,\", \"'Stay,\", \"'Stay:\", \"'Thanks,\", \"'The\", \"'This\", \"'Tis\", \"'True,\", \"'Twas\", \"'Two\", \"'Tybalt's\", \"'Verily'\", \"'Verily,'\\nOne\", \"'We\", \"'Welcome,\", \"'What\", \"'What,\", \"'Whoop,\", \"'Why\", \"'Will't\", \"'Wilt\", \"'Zounds,\", \"'aged\", \"'all\", \"'almost\", \"'ay'\", \"'banished'\", \"'banished'?\", \"'banished'?\\n\\nFRIAR\", \"'banished,'\"]\n",
      "\n",
      "Vocabulary size: 42194\n"
     ]
    }
   ],
   "source": [
    "# get all unique word that occur in this text\n",
    "\n",
    "words_nsw = sorted(list(set([t.strip() for t in text.split(' ')])))\n",
    "vocab_size_nsw = len(words_nsw)\n",
    "\n",
    "print(f\"Words include: {words_nsw[:100]}\")\n",
    "print(f\"\\nVocabulary size: {vocab_size_nsw}\")"
   ],
   "metadata": {
    "collapsed": false,
    "ExecuteTime": {
     "end_time": "2024-06-10T04:31:54.713001Z",
     "start_time": "2024-06-10T04:31:54.709628Z"
    }
   },
   "id": "b0a950ce263075f0"
  },
  {
   "cell_type": "code",
   "execution_count": null,
   "outputs": [],
   "source": [
    "with open(\"./data/vocab_words_nsw.txt\", \"w\", encoding=\"utf-8\") as file:\n",
    "    file.write(\"\\n\".join(words_nsw))"
   ],
   "metadata": {
    "collapsed": false
   },
   "id": "9a035efd233f36c9"
  },
  {
   "cell_type": "code",
   "execution_count": 56,
   "outputs": [
    {
     "name": "stdout",
     "output_type": "stream",
     "text": [
      "Words include: ['3', 'A', 'ABHORSON', 'ABRAHAM', 'ADRIAN', 'AEacides', 'AEdile', 'AEdiles', 'AEneas', 'AEsop', 'ALL', 'ALONSO', 'ANGELO', 'ANNE', 'ANOTHER', 'ANTIGONUS', 'ANTONIO', 'ARCHBISHOP', 'ARCHIDAMUS', 'ARIEL', 'AUFIDIUS', 'AUMERLE', 'AUTOLYCUS', 'Abase', 'Abate', 'Abated', 'Abbot', \"Abel's\", 'Abhorred', 'Abhorson', 'Abides', 'Able', 'About', 'Above', 'Abraham', \"Abraham's\", 'Absolute', 'Accept', \"Accomplish'd\", 'According', 'Accords', 'Account', 'Accountant', 'Accursed', 'Accuse', 'Achieve', 'Acquaint', 'Action', 'Adam', \"Adam's\", 'Add', 'Added', 'Adding', 'Address', 'Adieu', 'Adjudged', 'Admit', 'Adonis', 'Adoptedly', 'Adopts', 'Adrian', 'Adriatic', 'Advance', 'Advantaging', \"Adversity's\", 'Advertising', \"Advocate's\", 'Affection', \"Affection's\", 'Affliction', 'Affrighted', 'Affrights', 'Affront', 'Afore', 'Afresh', 'Afric', 'African', 'After', 'Again', 'Against', \"Agamemnon's\", 'Age', 'Aged', 'Agenor', 'Agreed', 'Agrippa', 'Ah', \"Aim'd\", 'Aiming', 'Airy', 'Ajax', \"Al'ce\", 'Alack', 'Alas', \"Alban's\", 'Albeit', 'Albion', \"Albion's\", 'Alcides', 'Alexander']\n",
      "\n",
      "Vocabulary size: 14868\n"
     ]
    }
   ],
   "source": [
    "# we need to process stoo word\n",
    "def tokenize_with_regex(text):\n",
    "    # This regex will match words including those with apostrophes and hyphens\n",
    "    return re.findall(r\"\\b\\w[\\w'-]*\\b\", text)\n",
    "\n",
    "words_sw = sorted(list(set(tokenize_with_regex(text))))\n",
    "vocab_size_sw = len(words_sw)\n",
    "print(f\"Words include: {words_sw[:100]}\")\n",
    "print(f\"\\nVocabulary size: {vocab_size_sw}\")\n"
   ],
   "metadata": {
    "collapsed": false,
    "ExecuteTime": {
     "end_time": "2024-06-10T04:43:48.624994Z",
     "start_time": "2024-06-10T04:43:48.621455Z"
    }
   },
   "id": "2f20bcf004cfafb5"
  },
  {
   "cell_type": "code",
   "execution_count": 51,
   "outputs": [],
   "source": [
    "with open(\"./data/vocab_words_sw.txt\", \"w\", encoding=\"utf-8\") as file:\n",
    "    file.write(\"\\n\".join(words_sw))"
   ],
   "metadata": {
    "collapsed": false,
    "ExecuteTime": {
     "end_time": "2024-06-10T04:38:19.677351Z",
     "start_time": "2024-06-10T04:38:19.670025Z"
    }
   },
   "id": "348c886b0c4573c2"
  },
  {
   "cell_type": "code",
   "execution_count": 57,
   "outputs": [],
   "source": [
    "dict_string_to_int = string_to_int(words_sw) \n",
    "dict_int_to_string = int_to_string(words_sw)"
   ],
   "metadata": {
    "collapsed": false,
    "ExecuteTime": {
     "end_time": "2024-06-10T04:43:51.419258Z",
     "start_time": "2024-06-10T04:43:51.413201Z"
    }
   },
   "id": "79fb98775ae114e7"
  },
  {
   "cell_type": "code",
   "execution_count": 70,
   "outputs": [
    {
     "name": "stdout",
     "output_type": "stream",
     "text": [
      "you'll\n",
      "wonder\n",
      "List Tokenizer:    [14846, 14709]\n",
      "Decode Tokenizer:  you'll wonder\n"
     ]
    }
   ],
   "source": [
    "# Building Encode Decode architecture\n",
    "def encode_sw(text, stoi):\n",
    "    list_idx = []\n",
    "    for word in tokenize_with_regex(text):\n",
    "        print(word)\n",
    "        list_idx.append(stoi[str(word)])\n",
    "    return list_idx\n",
    "        \n",
    "def decode_sw(list_idx, itos):\n",
    "    list_char = []\n",
    "    for idx in list_idx:\n",
    "        list_char.append(itos[idx])\n",
    "    return ' '.join(list_char)\n",
    "\n",
    "list_idx = encode_sw(\"you'll wonder\", dict_string_to_int)\n",
    "text = decode_sw(list_idx, dict_int_to_string)\n",
    "\n",
    "print(\"List Tokenizer:   \", list_idx)\n",
    "print(\"Decode Tokenizer: \", text)"
   ],
   "metadata": {
    "collapsed": false,
    "ExecuteTime": {
     "end_time": "2024-06-10T04:48:39.709786Z",
     "start_time": "2024-06-10T04:48:39.706963Z"
    }
   },
   "id": "cd4569309a9950a0"
  },
  {
   "cell_type": "markdown",
   "source": [
    "### Vấn đề của Word Tokenization truyền thống là gì ? (Ưu điểm vs Nhược điểm)\n",
    "\n",
    "\n",
    "**Ưu điểm**\n",
    "- Giảm số lượng token-IDs.\n",
    "- mô tả được sự liên kêt giữa các token (nhưng yếu).\n",
    "\n",
    "**Nhược điểm**\n",
    "- Vocab_size rất lớn (phải phủ hết các word trên đời các từ Let hay Let's đều phải lưu). --> vocab_size bị trùng rất nhiều\n",
    "- Missing Words \n",
    "- Không xử lý được các ngôn ngữ các từ không được quy định bởi dấu cách. (như tiếng Trung Quốc hay Tiếng Nhật nè)"
   ],
   "metadata": {
    "collapsed": false
   },
   "id": "3a77db03755ab7ba"
  },
  {
   "cell_type": "markdown",
   "source": [
    "## SubWord Tokenization (Model-based tokenization)\n",
    "\n",
    "Từ 2 phương pháp character-based vs word-based ta có rút ra như thế này. Để có thể phát triển các kỹ thuật tokenization ta cần \n",
    "\n",
    "- Có thể biểu diễn đầy đủ từ. Nhưng phải hạn chế số lượng tokenIDs sinh ra --> giảm các phép tính bị trùng lắp\n",
    "- Phải biểu diễn đầy đủ ý nghĩa (sematics present) \n",
    "\n",
    "Subword ra đời để giải quyết 2 vấn đề phía trên \n",
    "\n",
    "Một số phương pháp nổi tiếng sử dụng phương pháp SubWord Tokenization \n",
    "\n",
    "- Byte-Pair Encoding (BPE)\n",
    "- Unigram\n",
    "- SentencePiece (Google Tokenization)\n",
    "- WordPiece \n",
    "\n",
    "\n",
    "Một số so sánh giữa các phương pháp \n",
    "\n"
   ],
   "metadata": {
    "collapsed": false
   },
   "id": "f3ce114fa8448263"
  },
  {
   "cell_type": "markdown",
   "source": [
    "|            |                 Byte-Pair Encoding                   |                   SentencePiece                    |                           WordPiece |\n",
    "|:-----------|:----------------------------------------------------:|:--------------------------------------------------:|------------------------------------:|\n",
    "| Lossless   |                      full(GPT)                       |  - full (eg chữ ký tự)<br/>- partial (chữ latin)   |                                full |\n",
    "| Base vocab |                         256                          | large (all character) and most frequent substrings | unicode characters in training data |\n",
    "| Rules      |                  Merge by frequency                  |         Trim by minimizing likelihood loss         |      Merge by maximizing likelihood |\n",
    "| Used by    |                     GPT, Roberta                     |                T5, XLNet, Reformer                 |                   BERT, DistillBert |\n",
    "| Year       | [2016] <br/> lấy ra các từ hiếm thông qua các từ phụ |          [2018] <br/> BPE + Unigram                |                                     |"
   ],
   "metadata": {
    "collapsed": false
   },
   "id": "654537c8e6d1bdd0"
  },
  {
   "cell_type": "markdown",
   "source": [
    "**BPE**\n",
    "Nguyên lý hoạt động:\n",
    "   - Quy trình: BPE bắt đầu với một danh sách các ký tự đơn lẻ và dần dần ghép các cặp ký tự phổ biến nhất thành các token lớn hơn. Quy trình này lặp đi lặp lại cho đến khi đạt được số lượng token mong muốn.\n",
    "   - Mục tiêu: Tối ưu hóa cho việc giảm số lượng token cần thiết để biểu diễn văn bản mà không mất quá nhiều thông tin.\n",
    "   - Đặc điểm:\n",
    "        - Dễ hiểu và dễ triển khai.\n",
    "        - Hoạt động tốt cho các ngôn ngữ có sử dụng khoảng trắng giữa các từ như tiếng Anh.\n",
    "\n",
    "\n",
    "Các bước để xây dựng BPE bao gồm \n",
    "\n",
    "   - Step 1: Tách các word có trong kho dữ liệu \n",
    "   - Step 2: Chia từ thành các ký tự rồi tính tần số ký tự.\n",
    "   - Step 3: Extract BPE merges\n",
    "   - Step 4: Convert merges to a dictionary for quick lookup"
   ],
   "metadata": {
    "collapsed": false
   },
   "id": "a9a8369e0957c0f5"
  },
  {
   "cell_type": "code",
   "execution_count": 143,
   "outputs": [
    {
     "name": "stdout",
     "output_type": "stream",
     "text": [
      "Iteration 1\n",
      "Iteration 2\n",
      "Iteration 3\n",
      "Iteration 4\n",
      "Iteration 5\n",
      "Iteration 6\n",
      "Iteration 7\n",
      "Iteration 8\n",
      "Iteration 9\n",
      "Iteration 10\n",
      "Iteration 11\n",
      "Iteration 12\n",
      "Iteration 13\n",
      "Iteration 14\n",
      "Iteration 15\n",
      "Iteration 16\n",
      "Iteration 17\n",
      "Iteration 18\n",
      "Iteration 19\n",
      "Iteration 20\n",
      "Iteration 21\n",
      "Iteration 22\n",
      "Iteration 23\n",
      "Iteration 24\n",
      "Iteration 25\n",
      "Iteration 26\n",
      "Iteration 27\n",
      "Iteration 28\n",
      "Iteration 29\n",
      "Iteration 30\n",
      "Iteration 31\n",
      "Iteration 32\n",
      "Iteration 33\n",
      "Iteration 34\n",
      "Iteration 35\n",
      "Iteration 36\n",
      "Iteration 37\n",
      "Iteration 38\n",
      "Iteration 39\n",
      "Iteration 40\n",
      "Iteration 41\n",
      "Iteration 42\n",
      "Iteration 43\n",
      "Iteration 44\n",
      "Iteration 45\n",
      "Iteration 46\n",
      "Iteration 47\n",
      "Iteration 48\n",
      "Iteration 49\n",
      "Iteration 50\n",
      "Iteration 51\n",
      "Iteration 52\n",
      "Iteration 53\n",
      "Iteration 54\n",
      "Iteration 55\n",
      "Iteration 56\n",
      "Iteration 57\n",
      "Iteration 58\n",
      "Iteration 59\n",
      "Iteration 60\n",
      "Iteration 61\n",
      "Iteration 62\n",
      "Iteration 63\n",
      "Iteration 64\n",
      "Iteration 65\n",
      "Iteration 66\n",
      "Iteration 67\n",
      "Iteration 68\n",
      "Iteration 69\n",
      "Iteration 70\n",
      "Iteration 71\n",
      "Iteration 72\n",
      "Iteration 73\n",
      "Iteration 74\n",
      "Iteration 75\n",
      "Iteration 76\n",
      "Iteration 77\n",
      "Iteration 78\n",
      "Iteration 79\n",
      "Iteration 80\n",
      "Iteration 81\n",
      "Iteration 82\n",
      "Iteration 83\n",
      "Iteration 84\n",
      "Iteration 85\n",
      "Iteration 86\n",
      "Iteration 87\n",
      "Iteration 88\n",
      "Iteration 89\n",
      "Iteration 90\n",
      "Iteration 91\n",
      "Iteration 92\n",
      "Iteration 93\n",
      "Iteration 94\n",
      "Iteration 95\n",
      "Iteration 96\n",
      "Iteration 97\n",
      "Iteration 98\n",
      "Iteration 99\n",
      "Iteration 100\n",
      "Iteration 101\n",
      "Iteration 102\n",
      "Iteration 103\n",
      "Iteration 104\n",
      "Iteration 105\n",
      "Iteration 106\n",
      "Iteration 107\n",
      "Iteration 108\n",
      "Iteration 109\n",
      "Iteration 110\n",
      "Iteration 111\n",
      "Iteration 112\n",
      "Iteration 113\n",
      "Iteration 114\n",
      "Iteration 115\n",
      "Iteration 116\n",
      "Iteration 117\n",
      "Iteration 118\n",
      "Iteration 119\n",
      "Iteration 120\n",
      "Iteration 121\n",
      "Iteration 122\n",
      "Iteration 123\n",
      "Iteration 124\n",
      "Iteration 125\n",
      "Iteration 126\n",
      "Iteration 127\n",
      "Iteration 128\n",
      "Iteration 129\n",
      "Iteration 130\n",
      "Iteration 131\n",
      "Iteration 132\n",
      "Iteration 133\n",
      "Iteration 134\n",
      "Iteration 135\n",
      "Iteration 136\n",
      "Iteration 137\n",
      "Iteration 138\n",
      "Iteration 139\n",
      "Iteration 140\n",
      "Iteration 141\n",
      "Iteration 142\n",
      "Iteration 143\n",
      "Iteration 144\n",
      "Iteration 145\n",
      "Iteration 146\n",
      "Iteration 147\n",
      "Iteration 148\n",
      "Iteration 149\n",
      "Iteration 150\n",
      "Iteration 151\n",
      "Iteration 152\n",
      "Iteration 153\n",
      "Iteration 154\n",
      "Iteration 155\n",
      "Iteration 156\n",
      "Iteration 157\n",
      "Iteration 158\n",
      "Iteration 159\n",
      "Iteration 160\n",
      "Iteration 161\n",
      "Iteration 162\n",
      "Iteration 163\n",
      "Iteration 164\n",
      "Iteration 165\n",
      "Iteration 166\n",
      "Iteration 167\n",
      "Iteration 168\n",
      "Iteration 169\n",
      "Iteration 170\n",
      "Iteration 171\n",
      "Iteration 172\n",
      "Iteration 173\n",
      "Iteration 174\n",
      "Iteration 175\n",
      "Iteration 176\n",
      "Iteration 177\n",
      "Iteration 178\n",
      "Iteration 179\n",
      "Iteration 180\n",
      "Iteration 181\n",
      "Iteration 182\n",
      "Iteration 183\n",
      "Iteration 184\n",
      "Iteration 185\n",
      "Iteration 186\n",
      "Iteration 187\n",
      "Iteration 188\n",
      "Iteration 189\n",
      "Iteration 190\n",
      "Iteration 191\n",
      "Iteration 192\n",
      "Iteration 193\n",
      "Iteration 194\n",
      "Iteration 195\n",
      "Iteration 196\n",
      "Iteration 197\n",
      "Iteration 198\n",
      "Iteration 199\n",
      "Iteration 200\n",
      "Iteration 201\n",
      "Iteration 202\n",
      "Iteration 203\n",
      "Iteration 204\n",
      "Iteration 205\n",
      "Iteration 206\n",
      "Iteration 207\n",
      "Iteration 208\n",
      "Iteration 209\n",
      "Iteration 210\n",
      "Iteration 211\n",
      "Iteration 212\n",
      "Iteration 213\n",
      "Iteration 214\n",
      "Iteration 215\n",
      "Iteration 216\n",
      "Iteration 217\n",
      "Iteration 218\n",
      "Iteration 219\n",
      "Iteration 220\n",
      "Iteration 221\n",
      "Iteration 222\n",
      "Iteration 223\n",
      "Iteration 224\n",
      "Iteration 225\n",
      "Iteration 226\n",
      "Iteration 227\n",
      "Iteration 228\n",
      "Iteration 229\n",
      "Iteration 230\n",
      "Iteration 231\n",
      "Iteration 232\n",
      "Iteration 233\n",
      "Iteration 234\n",
      "Iteration 235\n",
      "Iteration 236\n",
      "Iteration 237\n",
      "Iteration 238\n",
      "Iteration 239\n",
      "Iteration 240\n",
      "Iteration 241\n",
      "Iteration 242\n",
      "Iteration 243\n",
      "Iteration 244\n",
      "Iteration 245\n",
      "Iteration 246\n",
      "Iteration 247\n",
      "Iteration 248\n",
      "Iteration 249\n",
      "Iteration 250\n",
      "Iteration 251\n",
      "Iteration 252\n",
      "Iteration 253\n",
      "Iteration 254\n",
      "Iteration 255\n",
      "Iteration 256\n"
     ]
    }
   ],
   "source": [
    "from collections import defaultdict, Counter\n",
    "\n",
    "def get_pairs(word):\n",
    "    \"\"\"Return set of symbol pairs in a word.\"\"\"\n",
    "    pairs = set()\n",
    "    prev_char = word[0]\n",
    "    for char in word[1:]:\n",
    "        pairs.add((prev_char, char))\n",
    "        prev_char = char\n",
    "    return pairs\n",
    "\n",
    "def merge_vocab(pair, vocab):\n",
    "    \"\"\"Merge all occurrences of the most frequent pair in the vocabulary.\"\"\"\n",
    "    new_vocab = {}\n",
    "    bigram = ''.join(pair)\n",
    "    for word, freq in vocab.items():\n",
    "        new_word = word.replace(bigram, bigram)\n",
    "        new_vocab[new_word] = vocab[word]\n",
    "    return new_vocab\n",
    "\n",
    "\n",
    "def merge_vocab(pair, vocab):\n",
    "    \"\"\"Merge all occurrences of the most frequent pair in the vocabulary.\"\"\"\n",
    "    new_vocab = {}\n",
    "    bigram = ''.join(pair)\n",
    "    for word, freq in vocab.items():\n",
    "        new_word = word.replace(bigram, bigram)\n",
    "        new_vocab[new_word] = vocab[word]\n",
    "    return new_vocab\n",
    "\n",
    "\n",
    "def extract_bpe_merges(vocab, num_merges):\n",
    "    \"\"\"Extract BPE merges from the vocabulary.\"\"\"\n",
    "    merges = []\n",
    "    for i in range(num_merges):\n",
    "        pairs = Counter()\n",
    "        for word, freq in vocab.items():\n",
    "            pairs.update(get_pairs(word.split()))\n",
    "        \n",
    "        if not pairs:\n",
    "            break\n",
    "\n",
    "        best = max(pairs, key=pairs.get)\n",
    "        vocab = merge_vocab(best, vocab)\n",
    "\n",
    "        # Merge the best pair\n",
    "        vocab = {word.replace(' '.join(best), ''.join(best)): freq for word, freq in vocab.items()}\n",
    "        merges.append(best)\n",
    "\n",
    "        # print(f\"Iteration {i + 1}: {vocab}\")\n",
    "        print(f\"Iteration {i + 1}\")\n",
    "\n",
    "    return vocab, merges\n",
    "\n",
    "def tokenize(word, merges):\n",
    "    \"\"\"Tokenize a word using BPE merges.\"\"\"\n",
    "    word = list(word)\n",
    "    pairs = get_pairs(word)\n",
    "\n",
    "    while True:\n",
    "        bigram = min(pairs, key=lambda pair: merges.get(pair, float('inf')))\n",
    "        if bigram not in merges:\n",
    "            break\n",
    "        first, second = bigram\n",
    "        new_word = []\n",
    "        i = 0\n",
    "        while i < len(word):\n",
    "            try:\n",
    "                j = word.index(first, i)\n",
    "                new_word.extend(word[i:j])\n",
    "                i = j\n",
    "            except:\n",
    "                new_word.extend(word[i:])\n",
    "                break\n",
    "\n",
    "            if word[i] == first and i < len(word) - 1 and word[i + 1] == second:\n",
    "                new_word.append(first + second)\n",
    "                i += 2\n",
    "            else:\n",
    "                new_word.append(word[i])\n",
    "                i += 1\n",
    "        word = new_word\n",
    "        if len(word) == 1:\n",
    "            break\n",
    "        else:\n",
    "            pairs = get_pairs(word)\n",
    "    return ' '.join(word)\n",
    "\n",
    "\n",
    "def create_token_to_id_mapping(vocab):\n",
    "    \"\"\"Create a mapping from tokens to unique IDs.\"\"\"\n",
    "    token_to_id = {}\n",
    "    id_to_token = {}\n",
    "    current_id = 0\n",
    "    \n",
    "    for word in vocab:\n",
    "        tokens = word.split()\n",
    "        for token in tokens:\n",
    "            if token not in token_to_id:\n",
    "                token_to_id[token] = current_id\n",
    "                id_to_token[current_id] = token\n",
    "                current_id += 1\n",
    "\n",
    "    return token_to_id, id_to_token\n",
    "\n",
    "\n",
    "# Step 1: Counter all words \n",
    "words = tokenize_with_regex(text)\n",
    "vocab = dict(Counter(words))\n",
    "\n",
    "# Step 2: Convert words to list of characters\n",
    "vocab = {' '.join(word): freq for word, freq in vocab.items()}\n",
    "\n",
    "# Step 3: Extract BPE merges\n",
    "num_merges = 256\n",
    "final_vocab, merges = extract_bpe_merges(vocab, num_merges)\n",
    "\n",
    "# Step 4: Convert merges to a dictionary for quick lookup\n",
    "bpe_merges = {merge: i for i, merge in enumerate(merges)}\n",
    "\n",
    "\n",
    "# Step 5: Create string to ids | int to string by final_vocal\n",
    "bpe_string_to_id, bpe_int_to_string = create_token_to_id_mapping(final_vocab)\n"
   ],
   "metadata": {
    "collapsed": false,
    "ExecuteTime": {
     "end_time": "2024-06-10T13:22:58.805137Z",
     "start_time": "2024-06-10T13:22:53.589102Z"
    }
   },
   "id": "20103d5da1fe7bcc"
  },
  {
   "cell_type": "code",
   "execution_count": 175,
   "outputs": [
    {
     "name": "stdout",
     "output_type": "stream",
     "text": [
      "Original word: hii\n",
      "Tokens: h i i\n",
      "List Tokenizer:    [57, 5, 5]\n",
      "Decode Tokenizer:  hii \n",
      "\n",
      "Original word: there\n",
      "Tokens: th er e\n",
      "List Tokenizer:    [35, 883, 52]\n",
      "Decode Tokenizer:  there \n"
     ]
    }
   ],
   "source": [
    "# using Words to Tokenizer\n",
    "def bpe_encode(tokens, bpe_string_to_id):\n",
    "    return [bpe_string_to_id[str(token)] for token in tokens.split()]\n",
    "\n",
    "def bpe_decode(list_idx, bpe_int_to_string):\n",
    "    return ''.join([bpe_int_to_string[ids] for ids in list_idx])\n",
    "\n",
    "\n",
    "text_input = \"hii there\"\n",
    "words = text_input.split(' ')\n",
    "for word in words:\n",
    "    print(f\"Original word: {word}\")\n",
    "    tokens = tokenize(word, bpe_merges)\n",
    "    print(f\"Tokens: {tokens}\")\n",
    "    \n",
    "    list_idx = bpe_encode(tokens, bpe_string_to_id)\n",
    "    text = bpe_decode(list_idx, bpe_int_to_string)\n",
    "    print(\"List Tokenizer:   \", list_idx)\n",
    "    print(\"Decode Tokenizer: \", text,  \"\\n\")\n",
    "\n"
   ],
   "metadata": {
    "collapsed": false,
    "ExecuteTime": {
     "end_time": "2024-06-10T13:42:30.234628Z",
     "start_time": "2024-06-10T13:42:30.231540Z"
    }
   },
   "id": "586ba295b199876"
  },
  {
   "cell_type": "code",
   "execution_count": null,
   "outputs": [],
   "source": [],
   "metadata": {
    "collapsed": false
   },
   "id": "4c7e9cbab8f4358c"
  }
 ],
 "metadata": {
  "kernelspec": {
   "display_name": "Python 3",
   "language": "python",
   "name": "python3"
  },
  "language_info": {
   "codemirror_mode": {
    "name": "ipython",
    "version": 2
   },
   "file_extension": ".py",
   "mimetype": "text/x-python",
   "name": "python",
   "nbconvert_exporter": "python",
   "pygments_lexer": "ipython2",
   "version": "2.7.6"
  }
 },
 "nbformat": 4,
 "nbformat_minor": 5
}
